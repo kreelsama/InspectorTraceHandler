{
 "cells": [
  {
   "cell_type": "code",
   "execution_count": 1,
   "metadata": {},
   "outputs": [],
   "source": [
    "import cProfile\n",
    "import sys\n",
    "sys.path.append(\"/home/kreel/\")"
   ]
  },
  {
   "cell_type": "code",
   "execution_count": 2,
   "metadata": {},
   "outputs": [],
   "source": [
    "from TraceHandler import InspectorFileDataLoader, TraceHandler"
   ]
  },
  {
   "cell_type": "code",
   "execution_count": 8,
   "metadata": {},
   "outputs": [],
   "source": [
    "def xor_bytes(s1:bytes, s2:bytes):\n",
    "    assert len(s1) == len(s2)\n",
    "    l = len(s1)\n",
    "    return bytes([s1[i] ^ s2[i] for i in range(l)])\n",
    "\n",
    "def data_getter(cnt, i=0, j=0):\n",
    "    with open(r\"/mnt/h/FPGA_stream/Attack_FPGA_{:0>4}.bit\".format(cnt), 'rb') as fp:\n",
    "        data = fp.read(1000)\n",
    "    return xor_bytes(data[0x104:0x114], data[0x11C:0x12C])"
   ]
  },
  {
   "cell_type": "code",
   "execution_count": 19,
   "metadata": {},
   "outputs": [
    {
     "data": {
      "text/plain": [
       "b'c\\x9er\\xb5R\\x08\\xcf\\x7fS\\xed\\xb9p\\x00\\x9aoh'"
      ]
     },
     "execution_count": 19,
     "metadata": {},
     "output_type": "execute_result"
    }
   ],
   "source": [
    "data_getter(0)"
   ]
  },
  {
   "cell_type": "code",
   "execution_count": 3,
   "metadata": {},
   "outputs": [],
   "source": [
    "path = '/mnt/share/FPGA/merge.trs'\n",
    "# cProfile.run(\"data = InspectorFileDataLoader(path, with_header=True)\")\n",
    "data = InspectorFileDataLoader(path, with_header=True)"
   ]
  },
  {
   "cell_type": "code",
   "execution_count": 4,
   "metadata": {},
   "outputs": [
    {
     "data": {
      "text/plain": [
       "b'\\x9c*BY\\xfa\\xd3\\xb8\\xc1\\xcaU\\xa2o\\xab]\\xb4\\x0b'"
      ]
     },
     "execution_count": 4,
     "metadata": {},
     "output_type": "execute_result"
    }
   ],
   "source": [
    "data.crypto_data[2].tobytes()"
   ]
  },
  {
   "cell_type": "code",
   "execution_count": 6,
   "metadata": {},
   "outputs": [
    {
     "name": "stdout",
     "output_type": "stream",
     "text": [
      "         390016 function calls in 52.101 seconds\n",
      "\n",
      "   Ordered by: standard name\n",
      "\n",
      "   ncalls  tottime  percall  cumtime  percall filename:lineno(function)\n",
      "        1    0.002    0.002   52.101   52.101 <string>:1(<module>)\n",
      "        1    0.031    0.031   52.100   52.100 DataLoader.py:103(__getitem__)\n",
      "    10000    0.038    0.000   51.906    0.005 DataLoader.py:135(__get_trace_data)\n",
      "    10000    0.012    0.000    0.021    0.000 DataLoader.py:181(__frombytes)\n",
      "        1    0.004    0.004    0.031    0.031 DataLoader.py:187(organize_trace_data)\n",
      "    10000    0.011    0.000    0.018    0.000 DataLoader.py:34(__zero_offset)\n",
      "    10000    0.004    0.000    0.010    0.000 DataLoader.py:38(__forward)\n",
      "    10000    0.017    0.000    0.049    0.000 DataLoader.py:41(__rewind)\n",
      "    10000    0.026    0.000    0.127    0.000 DataLoader.py:47(__ith)\n",
      "    10000    0.037    0.000   51.797    0.005 DataLoader.py:52(__read)\n",
      "    10000    0.010    0.000    0.026    0.000 DataLoader.py:60(__forward_samples)\n",
      "    10000    0.010    0.000   51.813    0.005 DataLoader.py:66(__read_samples)\n",
      "    10000    0.004    0.000    0.008    0.000 HeaderHandler.py:205(crypto_length)\n",
      "    50000    0.015    0.000    0.030    0.000 HeaderHandler.py:209(sample_length)\n",
      "        1    0.000    0.000    0.000    0.000 HeaderHandler.py:220(number_of_traces)\n",
      "    20000    0.014    0.000    0.040    0.000 HeaderHandler.py:224(samples_per_trace)\n",
      "    10000    0.012    0.000    0.055    0.000 HeaderHandler.py:228(single_trace_byte_length)\n",
      "    10000    0.014    0.000    0.077    0.000 HeaderHandler.py:232(trace_interval)\n",
      "    80001    0.044    0.000    0.044    0.000 HeaderHandler.py:37(__getitem__)\n",
      "        1    0.000    0.000    0.006    0.006 _asarray.py:16(asarray)\n",
      "        1    0.000    0.000   52.101   52.101 {built-in method builtins.exec}\n",
      "    20005    0.007    0.000    0.007    0.000 {built-in method builtins.isinstance}\n",
      "    20001    0.001    0.000    0.001    0.000 {built-in method builtins.len}\n",
      "        1    0.006    0.006    0.006    0.006 {built-in method numpy.array}\n",
      "    20000    0.004    0.000    0.004    0.000 {method 'append' of 'list' objects}\n",
      "        1    0.000    0.000    0.000    0.000 {method 'disable' of '_lsprof.Profiler' objects}\n",
      "    10001    0.016    0.000    0.016    0.000 {method 'indices' of 'slice' objects}\n",
      "    10000   51.711    0.005   51.711    0.005 {method 'read' of '_io.BufferedReader' objects}\n",
      "    40000    0.051    0.000    0.051    0.000 {method 'seek' of '_io.BufferedReader' objects}\n",
      "\n",
      "\n"
     ]
    }
   ],
   "source": [
    "import cProfile\n",
    "\n",
    "cProfile.run('x=data[:, 1000:2000]')\n"
   ]
  },
  {
   "cell_type": "code",
   "execution_count": 36,
   "metadata": {},
   "outputs": [],
   "source": [
    "import struct\n",
    "import random\n",
    "\n",
    "res = struct.unpack(\"b\"*l, b)"
   ]
  },
  {
   "cell_type": "code",
   "execution_count": 53,
   "metadata": {},
   "outputs": [],
   "source": [
    "import os\n",
    "l = int(32e6)\n",
    "b = os.urandom(l)"
   ]
  },
  {
   "cell_type": "code",
   "execution_count": 37,
   "metadata": {},
   "outputs": [],
   "source": [
    "unpacker = struct.Struct('b').iter_unpack"
   ]
  },
  {
   "cell_type": "code",
   "execution_count": 38,
   "metadata": {},
   "outputs": [
    {
     "data": {
      "text/plain": [
       "<unpack_iterator at 0x7f9b5d50e2c0>"
      ]
     },
     "execution_count": 38,
     "metadata": {},
     "output_type": "execute_result"
    }
   ],
   "source": [
    "unpacker(b)"
   ]
  },
  {
   "cell_type": "code",
   "execution_count": 61,
   "metadata": {},
   "outputs": [],
   "source": [
    "x = struct.Struct('b'*l).unpack(b)"
   ]
  },
  {
   "cell_type": "code",
   "execution_count": 12,
   "metadata": {},
   "outputs": [],
   "source": [
    "import numpy as np"
   ]
  },
  {
   "cell_type": "code",
   "execution_count": 62,
   "metadata": {},
   "outputs": [],
   "source": [
    "x = np.ndarray(shape=(len(b),), dtype='b', buffer=b)"
   ]
  },
  {
   "cell_type": "code",
   "execution_count": 13,
   "metadata": {},
   "outputs": [
    {
     "data": {
      "text/plain": [
       "array([1, 2, 3])"
      ]
     },
     "execution_count": 13,
     "metadata": {},
     "output_type": "execute_result"
    }
   ],
   "source": [
    "np.asarray([1,2,3])"
   ]
  },
  {
   "cell_type": "code",
   "execution_count": 66,
   "metadata": {},
   "outputs": [],
   "source": [
    "x = np.ndarray(0)"
   ]
  },
  {
   "cell_type": "code",
   "execution_count": null,
   "metadata": {},
   "outputs": [],
   "source": []
  }
 ],
 "metadata": {
  "kernelspec": {
   "display_name": "Python 3",
   "language": "python",
   "name": "python3"
  },
  "language_info": {
   "codemirror_mode": {
    "name": "ipython",
    "version": 3
   },
   "file_extension": ".py",
   "mimetype": "text/x-python",
   "name": "python",
   "nbconvert_exporter": "python",
   "pygments_lexer": "ipython3",
   "version": "3.8.10"
  }
 },
 "nbformat": 4,
 "nbformat_minor": 4
}
