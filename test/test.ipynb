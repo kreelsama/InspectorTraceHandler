{
 "cells": [
  {
   "cell_type": "code",
   "execution_count": 1,
   "metadata": {},
   "outputs": [],
   "source": [
    "import cProfile\n",
    "import sys\n",
    "sys.path.append(\"/home/kreel/\")"
   ]
  },
  {
   "cell_type": "code",
   "execution_count": 31,
   "metadata": {},
   "outputs": [],
   "source": [
    "from TraceHandler import InspectorFileDataLoader, TraceHandler"
   ]
  },
  {
   "cell_type": "code",
   "execution_count": 8,
   "metadata": {},
   "outputs": [],
   "source": [
    "def xor_bytes(s1:bytes, s2:bytes):\n",
    "    assert len(s1) == len(s2)\n",
    "    l = len(s1)\n",
    "    return bytes([s1[i] ^ s2[i] for i in range(l)])\n",
    "\n",
    "def data_getter(cnt, i=0, j=0):\n",
    "    with open(r\"/mnt/h/FPGA_stream/Attack_FPGA_{:0>4}.bit\".format(cnt), 'rb') as fp:\n",
    "        data = fp.read(1000)\n",
    "    return xor_bytes(data[0x104:0x114], data[0x11C:0x12C])"
   ]
  },
  {
   "cell_type": "code",
   "execution_count": 19,
   "metadata": {},
   "outputs": [
    {
     "data": {
      "text/plain": [
       "b'c\\x9er\\xb5R\\x08\\xcf\\x7fS\\xed\\xb9p\\x00\\x9aoh'"
      ]
     },
     "execution_count": 19,
     "metadata": {},
     "output_type": "execute_result"
    }
   ],
   "source": [
    "data_getter(0)"
   ]
  },
  {
   "cell_type": "code",
   "execution_count": 32,
   "metadata": {},
   "outputs": [],
   "source": [
    "path = '/mnt/c/Users/kreel/Desktop/dpac/merge.trs'\n",
    "# cProfile.run(\"data = InspectorFileDataLoader(path, with_header=True)\")\n",
    "data = InspectorFileDataLoader(path, with_header=True)"
   ]
  },
  {
   "cell_type": "code",
   "execution_count": 34,
   "metadata": {},
   "outputs": [
    {
     "data": {
      "text/plain": [
       "b'\\x1d:<Q\\rG\\xa8\\xf8-\\x01F\\x8ce\\xa6u\\xfb'"
      ]
     },
     "execution_count": 34,
     "metadata": {},
     "output_type": "execute_result"
    }
   ],
   "source": [
    "data.crypto_data[101].tobytes()"
   ]
  },
  {
   "cell_type": "code",
   "execution_count": 35,
   "metadata": {},
   "outputs": [
    {
     "name": "stdout",
     "output_type": "stream",
     "text": [
      "         390016 function calls in 10.569 seconds\n",
      "\n",
      "   Ordered by: standard name\n",
      "\n",
      "   ncalls  tottime  percall  cumtime  percall filename:lineno(function)\n",
      "        1    0.021    0.021   10.569   10.569 <string>:1(<module>)\n",
      "        1    0.017    0.017   10.548   10.548 DataLoader.py:102(__getitem__)\n",
      "    10000    0.022    0.000   10.090    0.001 DataLoader.py:134(__get_trace_data)\n",
      "    10000    0.012    0.000    0.021    0.000 DataLoader.py:180(__frombytes)\n",
      "        1    0.005    0.005    0.361    0.361 DataLoader.py:185(organize_trace_data)\n",
      "    10000    0.006    0.000    0.011    0.000 DataLoader.py:33(__zero_offset)\n",
      "    10000    0.003    0.000    0.009    0.000 DataLoader.py:37(__forward)\n",
      "    10000    0.009    0.000    0.028    0.000 DataLoader.py:40(__rewind)\n",
      "    10000    0.015    0.000    0.078    0.000 DataLoader.py:46(__ith)\n",
      "    10000    0.020    0.000   10.018    0.001 DataLoader.py:51(__read)\n",
      "    10000    0.006    0.000    0.020    0.000 DataLoader.py:59(__forward_samples)\n",
      "    10000    0.006    0.000   10.029    0.001 DataLoader.py:65(__read_samples)\n",
      "    10000    0.002    0.000    0.006    0.000 HeaderHandler.py:205(crypto_length)\n",
      "    50000    0.013    0.000    0.027    0.000 HeaderHandler.py:209(sample_length)\n",
      "        1    0.000    0.000    0.000    0.000 HeaderHandler.py:220(number_of_traces)\n",
      "    20000    0.008    0.000    0.023    0.000 HeaderHandler.py:224(samples_per_trace)\n",
      "    10000    0.007    0.000    0.033    0.000 HeaderHandler.py:228(single_trace_byte_length)\n",
      "    10000    0.007    0.000    0.047    0.000 HeaderHandler.py:232(trace_interval)\n",
      "    80001    0.032    0.000    0.032    0.000 HeaderHandler.py:37(__getitem__)\n",
      "        1    0.000    0.000    0.334    0.334 _asarray.py:16(asarray)\n",
      "        1    0.000    0.000   10.569   10.569 {built-in method builtins.exec}\n",
      "    20005    0.004    0.000    0.004    0.000 {built-in method builtins.isinstance}\n",
      "    20001    0.001    0.000    0.001    0.000 {built-in method builtins.len}\n",
      "        1    0.334    0.334    0.334    0.334 {built-in method numpy.array}\n",
      "    20000    0.002    0.000    0.002    0.000 {method 'append' of 'list' objects}\n",
      "        1    0.000    0.000    0.000    0.000 {method 'disable' of '_lsprof.Profiler' objects}\n",
      "    10001    0.009    0.000    0.009    0.000 {method 'indices' of 'slice' objects}\n",
      "    10000    9.970    0.001    9.970    0.001 {method 'read' of '_io.BufferedReader' objects}\n",
      "    40000    0.035    0.000    0.035    0.000 {method 'seek' of '_io.BufferedReader' objects}\n",
      "\n",
      "\n"
     ]
    }
   ],
   "source": [
    "import cProfile\n",
    "\n",
    "cProfile.run('x=data[:, :100000]')\n"
   ]
  },
  {
   "cell_type": "code",
   "execution_count": 36,
   "metadata": {},
   "outputs": [],
   "source": [
    "import struct\n",
    "import random\n",
    "\n",
    "res = struct.unpack(\"b\"*l, b)"
   ]
  },
  {
   "cell_type": "code",
   "execution_count": 36,
   "metadata": {},
   "outputs": [],
   "source": [
    "import matplotlib.pyplot as plt"
   ]
  },
  {
   "cell_type": "code",
   "execution_count": 37,
   "metadata": {},
   "outputs": [
    {
     "data": {
      "text/plain": [
       "[<matplotlib.lines.Line2D at 0x7fda5fd99340>]"
      ]
     },
     "execution_count": 37,
     "metadata": {},
     "output_type": "execute_result"
    },
    {
     "data": {
      "image/png": "[encoded data removed]",
      "text/plain": [
       "<Figure size 432x288 with 1 Axes>"
      ]
     },
     "metadata": {
      "needs_background": "light"
     },
     "output_type": "display_data"
    }
   ],
   "source": [
    "plt.plot(data[0])"
   ]
  },
  {
   "cell_type": "code",
   "execution_count": 75,
   "metadata": {},
   "outputs": [
    {
     "data": {
      "image/png": "[encoded data removed]",
      "text/plain": [
       "<Figure size 432x288 with 1 Axes>"
      ]
     },
     "metadata": {
      "needs_background": "light"
     },
     "output_type": "display_data"
    }
   ],
   "source": [
    "plt.plot(data[185])\n",
    "plt.show()"
   ]
  },
  {
   "cell_type": "code",
   "execution_count": 29,
   "metadata": {},
   "outputs": [
    {
     "data": {
      "text/plain": [
       "(10000, 1)"
      ]
     },
     "execution_count": 29,
     "metadata": {},
     "output_type": "execute_result"
    }
   ],
   "source": [
    "x.shape"
   ]
  },
  {
   "cell_type": "code",
   "execution_count": 12,
   "metadata": {},
   "outputs": [],
   "source": [
    "import numpy as np"
   ]
  },
  {
   "cell_type": "code",
   "execution_count": 62,
   "metadata": {},
   "outputs": [],
   "source": [
    "x = np.ndarray(shape=(len(b),), dtype='b', buffer=b)"
   ]
  },
  {
   "cell_type": "code",
   "execution_count": 13,
   "metadata": {},
   "outputs": [
    {
     "data": {
      "text/plain": [
       "array([1, 2, 3])"
      ]
     },
     "execution_count": 13,
     "metadata": {},
     "output_type": "execute_result"
    }
   ],
   "source": [
    "np.asarray([1,2,3])"
   ]
  },
  {
   "cell_type": "code",
   "execution_count": 66,
   "metadata": {},
   "outputs": [],
   "source": [
    "x = np.ndarray(0)"
   ]
  },
  {
   "cell_type": "code",
   "execution_count": null,
   "metadata": {},
   "outputs": [],
   "source": []
  }
 ],
 "metadata": {
  "kernelspec": {
   "display_name": "Python 3",
   "language": "python",
   "name": "python3"
  },
  "language_info": {
   "codemirror_mode": {
    "name": "ipython",
    "version": 3
   },
   "file_extension": ".py",
   "mimetype": "text/x-python",
   "name": "python",
   "nbconvert_exporter": "python",
   "pygments_lexer": "ipython3",
   "version": "3.8.10"
  }
 },
 "nbformat": 4,
 "nbformat_minor": 4
}
