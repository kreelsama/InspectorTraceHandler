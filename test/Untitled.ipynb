{
 "cells": [
  {
   "cell_type": "code",
   "execution_count": 1,
   "metadata": {},
   "outputs": [],
   "source": [
    "import sys\n",
    "sys.path.append(\"/home/kreel/\")"
   ]
  },
  {
   "cell_type": "code",
   "execution_count": 3,
   "metadata": {},
   "outputs": [],
   "source": [
    "from TraceHandler import InspectorFileDataLoader, TraceHandler"
   ]
  },
  {
   "cell_type": "code",
   "execution_count": 8,
   "metadata": {},
   "outputs": [],
   "source": [
    "def xor_bytes(s1:bytes, s2:bytes):\n",
    "    assert len(s1) == len(s2)\n",
    "    l = len(s1)\n",
    "    return bytes([s1[i] ^ s2[i] for i in range(l)])\n",
    "\n",
    "def data_getter(cnt, i=0, j=0):\n",
    "    with open(r\"/mnt/h/FPGA_stream/Attack_FPGA_{:0>4}.bit\".format(cnt), 'rb') as fp:\n",
    "        data = fp.read(1000)\n",
    "    return xor_bytes(data[0x104:0x114], data[0x11C:0x12C])"
   ]
  },
  {
   "cell_type": "code",
   "execution_count": 19,
   "metadata": {},
   "outputs": [
    {
     "data": {
      "text/plain": [
       "b'c\\x9er\\xb5R\\x08\\xcf\\x7fS\\xed\\xb9p\\x00\\x9aoh'"
      ]
     },
     "execution_count": 19,
     "metadata": {},
     "output_type": "execute_result"
    }
   ],
   "source": [
    "data_getter(0)"
   ]
  },
  {
   "cell_type": "code",
   "execution_count": 13,
   "metadata": {},
   "outputs": [],
   "source": [
    "path = '/mnt/share/FPGA/merge.trs'\n",
    "data = InspectorFileDataLoader(path, with_header=True)"
   ]
  },
  {
   "cell_type": "code",
   "execution_count": 22,
   "metadata": {},
   "outputs": [
    {
     "data": {
      "text/plain": [
       "b'c\\x9er\\xb5R\\x08\\xcf\\x7fS\\xed\\xb9p\\x00\\x9aoh'"
      ]
     },
     "execution_count": 22,
     "metadata": {},
     "output_type": "execute_result"
    }
   ],
   "source": [
    "data.crypto_data[2].tobytes()"
   ]
  },
  {
   "cell_type": "code",
   "execution_count": 29,
   "metadata": {},
   "outputs": [
    {
     "data": {
      "text/plain": [
       "array([ 99, 158, 114, 181,  82,   8, 207, 127,  83, 237, 185, 112,   0,\n",
       "       154, 111, 104], dtype=uint8)"
      ]
     },
     "execution_count": 29,
     "metadata": {},
     "output_type": "execute_result"
    }
   ],
   "source": [
    "data.support_data[2]"
   ]
  },
  {
   "cell_type": "code",
   "execution_count": 30,
   "metadata": {},
   "outputs": [
    {
     "data": {
      "text/plain": [
       "array([ 99, 158, 114, 181,  82,   8, 207, 127,  83, 237, 185, 112,   0,\n",
       "       154, 111, 104], dtype=uint8)"
      ]
     },
     "execution_count": 30,
     "metadata": {},
     "output_type": "execute_result"
    }
   ],
   "source": [
    "data.support_data[10]"
   ]
  },
  {
   "cell_type": "code",
   "execution_count": 78,
   "metadata": {},
   "outputs": [],
   "source": [
    "data._InspectorFileDataLoader__zero_offset()"
   ]
  },
  {
   "cell_type": "code",
   "execution_count": 47,
   "metadata": {},
   "outputs": [
    {
     "data": {
      "text/plain": [
       "b'c\\x9er\\xb5R\\x08\\xcf\\x7fS\\xed\\xb9p\\x00\\x9aoh'"
      ]
     },
     "execution_count": 47,
     "metadata": {},
     "output_type": "execute_result"
    }
   ],
   "source": [
    "data._InspectorFileDataLoader__read(data.header_handler.crypto_length)"
   ]
  },
  {
   "cell_type": "code",
   "execution_count": 82,
   "metadata": {},
   "outputs": [],
   "source": []
  },
  {
   "cell_type": "code",
   "execution_count": 38,
   "metadata": {},
   "outputs": [
    {
     "data": {
      "text/plain": [
       "b'c\\x9er\\xb5R\\x08\\xcf\\x7fS\\xed\\xb9p\\x00\\x9aoh'"
      ]
     },
     "execution_count": 38,
     "metadata": {},
     "output_type": "execute_result"
    }
   ],
   "source": [
    "data._InspectorFileDataLoader__read(data.header_handler.crypto_length)"
   ]
  },
  {
   "cell_type": "code",
   "execution_count": 75,
   "metadata": {},
   "outputs": [],
   "source": [
    "data._InspectorFileDataLoader__forward(data.header_handler.trace_interval)"
   ]
  },
  {
   "cell_type": "code",
   "execution_count": 94,
   "metadata": {},
   "outputs": [
    {
     "name": "stdout",
     "output_type": "stream",
     "text": [
      "b'c\\x9er\\xb5R\\x08\\xcf\\x7fS\\xed\\xb9p\\x00\\x9aoh\\xff\\xfb\\xfe\\xfc\\x00'\n"
     ]
    }
   ],
   "source": [
    "print(data._InspectorFileDataLoader__read(data.header_handler.crypto_length+5))\n",
    "data._InspectorFileDataLoader__next_position()"
   ]
  },
  {
   "cell_type": "code",
   "execution_count": 88,
   "metadata": {},
   "outputs": [
    {
     "data": {
      "text/plain": [
       "30000128"
      ]
     },
     "execution_count": 88,
     "metadata": {},
     "output_type": "execute_result"
    }
   ],
   "source": [
    "data.io.tell()"
   ]
  },
  {
   "cell_type": "code",
   "execution_count": 76,
   "metadata": {},
   "outputs": [
    {
     "data": {
      "text/plain": [
       "b'\\xfa\\xfe\\xfb\\xfc\\xfa\\x02\\xfa\\xf9\\xfc\\xfe\\xfb\\xfc\\xfb\\x00\\xfb\\xfb\\xfc\\xfe\\x00\\xfc'"
      ]
     },
     "execution_count": 76,
     "metadata": {},
     "output_type": "execute_result"
    }
   ],
   "source": [
    "data.io.read(20)"
   ]
  },
  {
   "cell_type": "code",
   "execution_count": 64,
   "metadata": {},
   "outputs": [],
   "source": [
    "data._InspectorFileDataLoader__zero_offset()"
   ]
  },
  {
   "cell_type": "code",
   "execution_count": null,
   "metadata": {},
   "outputs": [],
   "source": []
  }
 ],
 "metadata": {
  "kernelspec": {
   "display_name": "Python 3",
   "language": "python",
   "name": "python3"
  },
  "language_info": {
   "codemirror_mode": {
    "name": "ipython",
    "version": 3
   },
   "file_extension": ".py",
   "mimetype": "text/x-python",
   "name": "python",
   "nbconvert_exporter": "python",
   "pygments_lexer": "ipython3",
   "version": "3.8.10"
  }
 },
 "nbformat": 4,
 "nbformat_minor": 4
}
